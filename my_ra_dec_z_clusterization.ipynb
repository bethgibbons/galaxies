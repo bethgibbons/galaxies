{
  "nbformat": 4,
  "nbformat_minor": 0,
  "metadata": {
    "kernelspec": {
      "display_name": "Python 3",
      "language": "python",
      "name": "python3"
    },
    "language_info": {
      "codemirror_mode": {
        "name": "ipython",
        "version": 3
      },
      "file_extension": ".py",
      "mimetype": "text/x-python",
      "name": "python",
      "nbconvert_exporter": "python",
      "pygments_lexer": "ipython3",
      "version": "3.5.2"
    },
    "colab": {
      "name": "my_ra_dec_z_clusterization.ipynb",
      "provenance": [],
      "toc_visible": true
    },
    "accelerator": "GPU"
  },
  "cells": [
    {
      "cell_type": "code",
      "metadata": {
        "id": "o_yyMBZj0Jp4",
        "colab_type": "code",
        "colab": {
          "base_uri": "https://localhost:8080/",
          "height": 360
        },
        "outputId": "47a9f5de-dce4-4b13-b839-86dd46e3dbf6"
      },
      "source": [
        "!pip install hdbscan"
      ],
      "execution_count": 1,
      "outputs": [
        {
          "output_type": "stream",
          "text": [
            "Collecting hdbscan\n",
            "\u001b[?25l  Downloading https://files.pythonhosted.org/packages/22/2f/2423d844072f007a74214c1adc46260e45f034bb1679ccadfbb8a601f647/hdbscan-0.8.26.tar.gz (4.7MB)\n",
            "\u001b[K     |████████████████████████████████| 4.7MB 1.3MB/s \n",
            "\u001b[?25h  Installing build dependencies ... \u001b[?25l\u001b[?25hdone\n",
            "  Getting requirements to build wheel ... \u001b[?25l\u001b[?25hdone\n",
            "    Preparing wheel metadata ... \u001b[?25l\u001b[?25hdone\n",
            "Requirement already satisfied: cython>=0.27 in /usr/local/lib/python3.6/dist-packages (from hdbscan) (0.29.21)\n",
            "Requirement already satisfied: six in /usr/local/lib/python3.6/dist-packages (from hdbscan) (1.12.0)\n",
            "Requirement already satisfied: numpy>=1.16.0 in /usr/local/lib/python3.6/dist-packages (from hdbscan) (1.18.5)\n",
            "Requirement already satisfied: scipy>=0.9 in /usr/local/lib/python3.6/dist-packages (from hdbscan) (1.4.1)\n",
            "Requirement already satisfied: scikit-learn>=0.17 in /usr/local/lib/python3.6/dist-packages (from hdbscan) (0.22.2.post1)\n",
            "Requirement already satisfied: joblib in /usr/local/lib/python3.6/dist-packages (from hdbscan) (0.16.0)\n",
            "Building wheels for collected packages: hdbscan\n",
            "  Building wheel for hdbscan (PEP 517) ... \u001b[?25l\u001b[?25hdone\n",
            "  Created wheel for hdbscan: filename=hdbscan-0.8.26-cp36-cp36m-linux_x86_64.whl size=2305928 sha256=9f77f84f46a41031045693e1626bc0f3f3bfd4d2247e716f076b5bdb3f174bf1\n",
            "  Stored in directory: /root/.cache/pip/wheels/82/38/41/372f034d8abd271ef7787a681e0a47fc05d472683a7eb088ed\n",
            "Successfully built hdbscan\n",
            "Installing collected packages: hdbscan\n",
            "Successfully installed hdbscan-0.8.26\n"
          ],
          "name": "stdout"
        }
      ]
    },
    {
      "cell_type": "code",
      "metadata": {
        "id": "93TGhBDNujOX",
        "colab_type": "code",
        "colab": {
          "base_uri": "https://localhost:8080/",
          "height": 207
        },
        "outputId": "06e544c1-b1e2-46a0-c1fd-0bb264864338"
      },
      "source": [
        "!pip install vowpalwabbit"
      ],
      "execution_count": 2,
      "outputs": [
        {
          "output_type": "stream",
          "text": [
            "Collecting vowpalwabbit\n",
            "\u001b[?25l  Downloading https://files.pythonhosted.org/packages/26/65/833b79b0e968dfe988e7cea5ff730004d3b6cf05786228e94cf0b6037cf5/vowpalwabbit-8.8.1.tar.gz (3.1MB)\n",
            "\r\u001b[K     |                                | 10kB 17.1MB/s eta 0:00:01\r\u001b[K     |▏                               | 20kB 24.0MB/s eta 0:00:01\r\u001b[K     |▎                               | 30kB 29.1MB/s eta 0:00:01\r\u001b[K     |▍                               | 40kB 27.4MB/s eta 0:00:01\r\u001b[K     |▌                               | 51kB 16.0MB/s eta 0:00:01\r\u001b[K     |▋                               | 61kB 12.5MB/s eta 0:00:01\r\u001b[K     |▊                               | 71kB 11.9MB/s eta 0:00:01\r\u001b[K     |▉                               | 81kB 11.6MB/s eta 0:00:01\r\u001b[K     |█                               | 92kB 11.5MB/s eta 0:00:01\r\u001b[K     |█                               | 102kB 11.8MB/s eta 0:00:01\r\u001b[K     |█▏                              | 112kB 11.8MB/s eta 0:00:01\r\u001b[K     |█▎                              | 122kB 11.8MB/s eta 0:00:01\r\u001b[K     |█▍                              | 133kB 11.8MB/s eta 0:00:01\r\u001b[K     |█▌                              | 143kB 11.8MB/s eta 0:00:01\r\u001b[K     |█▋                              | 153kB 11.8MB/s eta 0:00:01\r\u001b[K     |█▊                              | 163kB 11.8MB/s eta 0:00:01\r\u001b[K     |█▉                              | 174kB 11.8MB/s eta 0:00:01\r\u001b[K     |██                              | 184kB 11.8MB/s eta 0:00:01\r\u001b[K     |██                              | 194kB 11.8MB/s eta 0:00:01\r\u001b[K     |██▏                             | 204kB 11.8MB/s eta 0:00:01\r\u001b[K     |██▎                             | 215kB 11.8MB/s eta 0:00:01\r\u001b[K     |██▍                             | 225kB 11.8MB/s eta 0:00:01\r\u001b[K     |██▌                             | 235kB 11.8MB/s eta 0:00:01\r\u001b[K     |██▌                             | 245kB 11.8MB/s eta 0:00:01\r\u001b[K     |██▋                             | 256kB 11.8MB/s eta 0:00:01\r\u001b[K     |██▊                             | 266kB 11.8MB/s eta 0:00:01\r\u001b[K     |██▉                             | 276kB 11.8MB/s eta 0:00:01\r\u001b[K     |███                             | 286kB 11.8MB/s eta 0:00:01\r\u001b[K     |███                             | 296kB 11.8MB/s eta 0:00:01\r\u001b[K     |███▏                            | 307kB 11.8MB/s eta 0:00:01\r\u001b[K     |███▎                            | 317kB 11.8MB/s eta 0:00:01\r\u001b[K     |███▍                            | 327kB 11.8MB/s eta 0:00:01\r\u001b[K     |███▌                            | 337kB 11.8MB/s eta 0:00:01\r\u001b[K     |███▋                            | 348kB 11.8MB/s eta 0:00:01\r\u001b[K     |███▊                            | 358kB 11.8MB/s eta 0:00:01\r\u001b[K     |███▉                            | 368kB 11.8MB/s eta 0:00:01\r\u001b[K     |████                            | 378kB 11.8MB/s eta 0:00:01\r\u001b[K     |████                            | 389kB 11.8MB/s eta 0:00:01\r\u001b[K     |████▏                           | 399kB 11.8MB/s eta 0:00:01\r\u001b[K     |████▎                           | 409kB 11.8MB/s eta 0:00:01\r\u001b[K     |████▍                           | 419kB 11.8MB/s eta 0:00:01\r\u001b[K     |████▌                           | 430kB 11.8MB/s eta 0:00:01\r\u001b[K     |████▋                           | 440kB 11.8MB/s eta 0:00:01\r\u001b[K     |████▊                           | 450kB 11.8MB/s eta 0:00:01\r\u001b[K     |████▉                           | 460kB 11.8MB/s eta 0:00:01\r\u001b[K     |█████                           | 471kB 11.8MB/s eta 0:00:01\r\u001b[K     |█████                           | 481kB 11.8MB/s eta 0:00:01\r\u001b[K     |█████                           | 491kB 11.8MB/s eta 0:00:01\r\u001b[K     |█████▏                          | 501kB 11.8MB/s eta 0:00:01\r\u001b[K     |█████▎                          | 512kB 11.8MB/s eta 0:00:01\r\u001b[K     |█████▍                          | 522kB 11.8MB/s eta 0:00:01\r\u001b[K     |█████▌                          | 532kB 11.8MB/s eta 0:00:01\r\u001b[K     |█████▋                          | 542kB 11.8MB/s eta 0:00:01\r\u001b[K     |█████▊                          | 552kB 11.8MB/s eta 0:00:01\r\u001b[K     |█████▉                          | 563kB 11.8MB/s eta 0:00:01\r\u001b[K     |██████                          | 573kB 11.8MB/s eta 0:00:01\r\u001b[K     |██████                          | 583kB 11.8MB/s eta 0:00:01\r\u001b[K     |██████▏                         | 593kB 11.8MB/s eta 0:00:01\r\u001b[K     |██████▎                         | 604kB 11.8MB/s eta 0:00:01\r\u001b[K     |██████▍                         | 614kB 11.8MB/s eta 0:00:01\r\u001b[K     |██████▌                         | 624kB 11.8MB/s eta 0:00:01\r\u001b[K     |██████▋                         | 634kB 11.8MB/s eta 0:00:01\r\u001b[K     |██████▊                         | 645kB 11.8MB/s eta 0:00:01\r\u001b[K     |██████▉                         | 655kB 11.8MB/s eta 0:00:01\r\u001b[K     |███████                         | 665kB 11.8MB/s eta 0:00:01\r\u001b[K     |███████                         | 675kB 11.8MB/s eta 0:00:01\r\u001b[K     |███████▏                        | 686kB 11.8MB/s eta 0:00:01\r\u001b[K     |███████▎                        | 696kB 11.8MB/s eta 0:00:01\r\u001b[K     |███████▍                        | 706kB 11.8MB/s eta 0:00:01\r\u001b[K     |███████▌                        | 716kB 11.8MB/s eta 0:00:01\r\u001b[K     |███████▌                        | 727kB 11.8MB/s eta 0:00:01\r\u001b[K     |███████▋                        | 737kB 11.8MB/s eta 0:00:01\r\u001b[K     |███████▊                        | 747kB 11.8MB/s eta 0:00:01\r\u001b[K     |███████▉                        | 757kB 11.8MB/s eta 0:00:01\r\u001b[K     |████████                        | 768kB 11.8MB/s eta 0:00:01\r\u001b[K     |████████                        | 778kB 11.8MB/s eta 0:00:01\r\u001b[K     |████████▏                       | 788kB 11.8MB/s eta 0:00:01\r\u001b[K     |████████▎                       | 798kB 11.8MB/s eta 0:00:01\r\u001b[K     |████████▍                       | 808kB 11.8MB/s eta 0:00:01\r\u001b[K     |████████▌                       | 819kB 11.8MB/s eta 0:00:01\r\u001b[K     |████████▋                       | 829kB 11.8MB/s eta 0:00:01\r\u001b[K     |████████▊                       | 839kB 11.8MB/s eta 0:00:01\r\u001b[K     |████████▉                       | 849kB 11.8MB/s eta 0:00:01\r\u001b[K     |█████████                       | 860kB 11.8MB/s eta 0:00:01\r\u001b[K     |█████████                       | 870kB 11.8MB/s eta 0:00:01\r\u001b[K     |█████████▏                      | 880kB 11.8MB/s eta 0:00:01\r\u001b[K     |█████████▎                      | 890kB 11.8MB/s eta 0:00:01\r\u001b[K     |█████████▍                      | 901kB 11.8MB/s eta 0:00:01\r\u001b[K     |█████████▌                      | 911kB 11.8MB/s eta 0:00:01\r\u001b[K     |█████████▋                      | 921kB 11.8MB/s eta 0:00:01\r\u001b[K     |█████████▊                      | 931kB 11.8MB/s eta 0:00:01\r\u001b[K     |█████████▉                      | 942kB 11.8MB/s eta 0:00:01\r\u001b[K     |██████████                      | 952kB 11.8MB/s eta 0:00:01\r\u001b[K     |██████████                      | 962kB 11.8MB/s eta 0:00:01\r\u001b[K     |██████████                      | 972kB 11.8MB/s eta 0:00:01\r\u001b[K     |██████████▏                     | 983kB 11.8MB/s eta 0:00:01\r\u001b[K     |██████████▎                     | 993kB 11.8MB/s eta 0:00:01\r\u001b[K     |██████████▍                     | 1.0MB 11.8MB/s eta 0:00:01\r\u001b[K     |██████████▌                     | 1.0MB 11.8MB/s eta 0:00:01\r\u001b[K     |██████████▋                     | 1.0MB 11.8MB/s eta 0:00:01\r\u001b[K     |██████████▊                     | 1.0MB 11.8MB/s eta 0:00:01\r\u001b[K     |██████████▉                     | 1.0MB 11.8MB/s eta 0:00:01\r\u001b[K     |███████████                     | 1.1MB 11.8MB/s eta 0:00:01\r\u001b[K     |███████████                     | 1.1MB 11.8MB/s eta 0:00:01\r\u001b[K     |███████████▏                    | 1.1MB 11.8MB/s eta 0:00:01\r\u001b[K     |███████████▎                    | 1.1MB 11.8MB/s eta 0:00:01\r\u001b[K     |███████████▍                    | 1.1MB 11.8MB/s eta 0:00:01\r\u001b[K     |███████████▌                    | 1.1MB 11.8MB/s eta 0:00:01\r\u001b[K     |███████████▋                    | 1.1MB 11.8MB/s eta 0:00:01\r\u001b[K     |███████████▊                    | 1.1MB 11.8MB/s eta 0:00:01\r\u001b[K     |███████████▉                    | 1.1MB 11.8MB/s eta 0:00:01\r\u001b[K     |████████████                    | 1.1MB 11.8MB/s eta 0:00:01\r\u001b[K     |████████████                    | 1.2MB 11.8MB/s eta 0:00:01\r\u001b[K     |████████████▏                   | 1.2MB 11.8MB/s eta 0:00:01\r\u001b[K     |████████████▎                   | 1.2MB 11.8MB/s eta 0:00:01\r\u001b[K     |████████████▍                   | 1.2MB 11.8MB/s eta 0:00:01\r\u001b[K     |████████████▌                   | 1.2MB 11.8MB/s eta 0:00:01\r\u001b[K     |████████████▌                   | 1.2MB 11.8MB/s eta 0:00:01\r\u001b[K     |████████████▋                   | 1.2MB 11.8MB/s eta 0:00:01\r\u001b[K     |████████████▊                   | 1.2MB 11.8MB/s eta 0:00:01\r\u001b[K     |████████████▉                   | 1.2MB 11.8MB/s eta 0:00:01\r\u001b[K     |█████████████                   | 1.2MB 11.8MB/s eta 0:00:01\r\u001b[K     |█████████████                   | 1.3MB 11.8MB/s eta 0:00:01\r\u001b[K     |█████████████▏                  | 1.3MB 11.8MB/s eta 0:00:01\r\u001b[K     |█████████████▎                  | 1.3MB 11.8MB/s eta 0:00:01\r\u001b[K     |█████████████▍                  | 1.3MB 11.8MB/s eta 0:00:01\r\u001b[K     |█████████████▌                  | 1.3MB 11.8MB/s eta 0:00:01\r\u001b[K     |█████████████▋                  | 1.3MB 11.8MB/s eta 0:00:01\r\u001b[K     |█████████████▊                  | 1.3MB 11.8MB/s eta 0:00:01\r\u001b[K     |█████████████▉                  | 1.3MB 11.8MB/s eta 0:00:01\r\u001b[K     |██████████████                  | 1.3MB 11.8MB/s eta 0:00:01\r\u001b[K     |██████████████                  | 1.4MB 11.8MB/s eta 0:00:01\r\u001b[K     |██████████████▏                 | 1.4MB 11.8MB/s eta 0:00:01\r\u001b[K     |██████████████▎                 | 1.4MB 11.8MB/s eta 0:00:01\r\u001b[K     |██████████████▍                 | 1.4MB 11.8MB/s eta 0:00:01\r\u001b[K     |██████████████▌                 | 1.4MB 11.8MB/s eta 0:00:01\r\u001b[K     |██████████████▋                 | 1.4MB 11.8MB/s eta 0:00:01\r\u001b[K     |██████████████▊                 | 1.4MB 11.8MB/s eta 0:00:01\r\u001b[K     |██████████████▉                 | 1.4MB 11.8MB/s eta 0:00:01\r\u001b[K     |███████████████                 | 1.4MB 11.8MB/s eta 0:00:01\r\u001b[K     |███████████████                 | 1.4MB 11.8MB/s eta 0:00:01\r\u001b[K     |███████████████                 | 1.5MB 11.8MB/s eta 0:00:01\r\u001b[K     |███████████████▏                | 1.5MB 11.8MB/s eta 0:00:01\r\u001b[K     |███████████████▎                | 1.5MB 11.8MB/s eta 0:00:01\r\u001b[K     |███████████████▍                | 1.5MB 11.8MB/s eta 0:00:01\r\u001b[K     |███████████████▌                | 1.5MB 11.8MB/s eta 0:00:01\r\u001b[K     |███████████████▋                | 1.5MB 11.8MB/s eta 0:00:01\r\u001b[K     |███████████████▊                | 1.5MB 11.8MB/s eta 0:00:01\r\u001b[K     |███████████████▉                | 1.5MB 11.8MB/s eta 0:00:01\r\u001b[K     |████████████████                | 1.5MB 11.8MB/s eta 0:00:01\r\u001b[K     |████████████████                | 1.5MB 11.8MB/s eta 0:00:01\r\u001b[K     |████████████████▏               | 1.6MB 11.8MB/s eta 0:00:01\r\u001b[K     |████████████████▎               | 1.6MB 11.8MB/s eta 0:00:01\r\u001b[K     |████████████████▍               | 1.6MB 11.8MB/s eta 0:00:01\r\u001b[K     |████████████████▌               | 1.6MB 11.8MB/s eta 0:00:01\r\u001b[K     |████████████████▋               | 1.6MB 11.8MB/s eta 0:00:01\r\u001b[K     |████████████████▊               | 1.6MB 11.8MB/s eta 0:00:01\r\u001b[K     |████████████████▉               | 1.6MB 11.8MB/s eta 0:00:01\r\u001b[K     |█████████████████               | 1.6MB 11.8MB/s eta 0:00:01\r\u001b[K     |█████████████████               | 1.6MB 11.8MB/s eta 0:00:01\r\u001b[K     |█████████████████▏              | 1.6MB 11.8MB/s eta 0:00:01\r\u001b[K     |█████████████████▎              | 1.7MB 11.8MB/s eta 0:00:01\r\u001b[K     |█████████████████▍              | 1.7MB 11.8MB/s eta 0:00:01\r\u001b[K     |█████████████████▌              | 1.7MB 11.8MB/s eta 0:00:01\r\u001b[K     |█████████████████▌              | 1.7MB 11.8MB/s eta 0:00:01\r\u001b[K     |█████████████████▋              | 1.7MB 11.8MB/s eta 0:00:01\r\u001b[K     |█████████████████▊              | 1.7MB 11.8MB/s eta 0:00:01\r\u001b[K     |█████████████████▉              | 1.7MB 11.8MB/s eta 0:00:01\r\u001b[K     |██████████████████              | 1.7MB 11.8MB/s eta 0:00:01\r\u001b[K     |██████████████████              | 1.7MB 11.8MB/s eta 0:00:01\r\u001b[K     |██████████████████▏             | 1.8MB 11.8MB/s eta 0:00:01\r\u001b[K     |██████████████████▎             | 1.8MB 11.8MB/s eta 0:00:01\r\u001b[K     |██████████████████▍             | 1.8MB 11.8MB/s eta 0:00:01\r\u001b[K     |██████████████████▌             | 1.8MB 11.8MB/s eta 0:00:01\r\u001b[K     |██████████████████▋             | 1.8MB 11.8MB/s eta 0:00:01\r\u001b[K     |██████████████████▊             | 1.8MB 11.8MB/s eta 0:00:01\r\u001b[K     |██████████████████▉             | 1.8MB 11.8MB/s eta 0:00:01\r\u001b[K     |███████████████████             | 1.8MB 11.8MB/s eta 0:00:01\r\u001b[K     |███████████████████             | 1.8MB 11.8MB/s eta 0:00:01\r\u001b[K     |███████████████████▏            | 1.8MB 11.8MB/s eta 0:00:01\r\u001b[K     |███████████████████▎            | 1.9MB 11.8MB/s eta 0:00:01\r\u001b[K     |███████████████████▍            | 1.9MB 11.8MB/s eta 0:00:01\r\u001b[K     |███████████████████▌            | 1.9MB 11.8MB/s eta 0:00:01\r\u001b[K     |███████████████████▋            | 1.9MB 11.8MB/s eta 0:00:01\r\u001b[K     |███████████████████▊            | 1.9MB 11.8MB/s eta 0:00:01\r\u001b[K     |███████████████████▉            | 1.9MB 11.8MB/s eta 0:00:01\r\u001b[K     |████████████████████            | 1.9MB 11.8MB/s eta 0:00:01\r\u001b[K     |████████████████████            | 1.9MB 11.8MB/s eta 0:00:01\r\u001b[K     |████████████████████            | 1.9MB 11.8MB/s eta 0:00:01\r\u001b[K     |████████████████████▏           | 1.9MB 11.8MB/s eta 0:00:01\r\u001b[K     |████████████████████▎           | 2.0MB 11.8MB/s eta 0:00:01\r\u001b[K     |████████████████████▍           | 2.0MB 11.8MB/s eta 0:00:01\r\u001b[K     |████████████████████▌           | 2.0MB 11.8MB/s eta 0:00:01\r\u001b[K     |████████████████████▋           | 2.0MB 11.8MB/s eta 0:00:01\r\u001b[K     |████████████████████▊           | 2.0MB 11.8MB/s eta 0:00:01\r\u001b[K     |████████████████████▉           | 2.0MB 11.8MB/s eta 0:00:01\r\u001b[K     |█████████████████████           | 2.0MB 11.8MB/s eta 0:00:01\r\u001b[K     |█████████████████████           | 2.0MB 11.8MB/s eta 0:00:01\r\u001b[K     |█████████████████████▏          | 2.0MB 11.8MB/s eta 0:00:01\r\u001b[K     |█████████████████████▎          | 2.0MB 11.8MB/s eta 0:00:01\r\u001b[K     |█████████████████████▍          | 2.1MB 11.8MB/s eta 0:00:01\r\u001b[K     |█████████████████████▌          | 2.1MB 11.8MB/s eta 0:00:01\r\u001b[K     |█████████████████████▋          | 2.1MB 11.8MB/s eta 0:00:01\r\u001b[K     |█████████████████████▊          | 2.1MB 11.8MB/s eta 0:00:01\r\u001b[K     |█████████████████████▉          | 2.1MB 11.8MB/s eta 0:00:01\r\u001b[K     |██████████████████████          | 2.1MB 11.8MB/s eta 0:00:01\r\u001b[K     |██████████████████████          | 2.1MB 11.8MB/s eta 0:00:01\r\u001b[K     |██████████████████████▏         | 2.1MB 11.8MB/s eta 0:00:01\r\u001b[K     |██████████████████████▎         | 2.1MB 11.8MB/s eta 0:00:01\r\u001b[K     |██████████████████████▍         | 2.2MB 11.8MB/s eta 0:00:01\r\u001b[K     |██████████████████████▌         | 2.2MB 11.8MB/s eta 0:00:01\r\u001b[K     |██████████████████████▋         | 2.2MB 11.8MB/s eta 0:00:01\r\u001b[K     |██████████████████████▋         | 2.2MB 11.8MB/s eta 0:00:01\r\u001b[K     |██████████████████████▊         | 2.2MB 11.8MB/s eta 0:00:01\r\u001b[K     |██████████████████████▉         | 2.2MB 11.8MB/s eta 0:00:01\r\u001b[K     |███████████████████████         | 2.2MB 11.8MB/s eta 0:00:01\r\u001b[K     |███████████████████████         | 2.2MB 11.8MB/s eta 0:00:01\r\u001b[K     |███████████████████████▏        | 2.2MB 11.8MB/s eta 0:00:01\r\u001b[K     |███████████████████████▎        | 2.2MB 11.8MB/s eta 0:00:01\r\u001b[K     |███████████████████████▍        | 2.3MB 11.8MB/s eta 0:00:01\r\u001b[K     |███████████████████████▌        | 2.3MB 11.8MB/s eta 0:00:01\r\u001b[K     |███████████████████████▋        | 2.3MB 11.8MB/s eta 0:00:01\r\u001b[K     |███████████████████████▊        | 2.3MB 11.8MB/s eta 0:00:01\r\u001b[K     |███████████████████████▉        | 2.3MB 11.8MB/s eta 0:00:01\r\u001b[K     |████████████████████████        | 2.3MB 11.8MB/s eta 0:00:01\r\u001b[K     |████████████████████████        | 2.3MB 11.8MB/s eta 0:00:01\r\u001b[K     |████████████████████████▏       | 2.3MB 11.8MB/s eta 0:00:01\r\u001b[K     |████████████████████████▎       | 2.3MB 11.8MB/s eta 0:00:01\r\u001b[K     |████████████████████████▍       | 2.3MB 11.8MB/s eta 0:00:01\r\u001b[K     |████████████████████████▌       | 2.4MB 11.8MB/s eta 0:00:01\r\u001b[K     |████████████████████████▋       | 2.4MB 11.8MB/s eta 0:00:01\r\u001b[K     |████████████████████████▊       | 2.4MB 11.8MB/s eta 0:00:01\r\u001b[K     |████████████████████████▉       | 2.4MB 11.8MB/s eta 0:00:01\r\u001b[K     |█████████████████████████       | 2.4MB 11.8MB/s eta 0:00:01\r\u001b[K     |█████████████████████████       | 2.4MB 11.8MB/s eta 0:00:01\r\u001b[K     |█████████████████████████       | 2.4MB 11.8MB/s eta 0:00:01\r\u001b[K     |█████████████████████████▏      | 2.4MB 11.8MB/s eta 0:00:01\r\u001b[K     |█████████████████████████▎      | 2.4MB 11.8MB/s eta 0:00:01\r\u001b[K     |█████████████████████████▍      | 2.4MB 11.8MB/s eta 0:00:01\r\u001b[K     |█████████████████████████▌      | 2.5MB 11.8MB/s eta 0:00:01\r\u001b[K     |█████████████████████████▋      | 2.5MB 11.8MB/s eta 0:00:01\r\u001b[K     |█████████████████████████▊      | 2.5MB 11.8MB/s eta 0:00:01\r\u001b[K     |█████████████████████████▉      | 2.5MB 11.8MB/s eta 0:00:01\r\u001b[K     |██████████████████████████      | 2.5MB 11.8MB/s eta 0:00:01\r\u001b[K     |██████████████████████████      | 2.5MB 11.8MB/s eta 0:00:01\r\u001b[K     |██████████████████████████▏     | 2.5MB 11.8MB/s eta 0:00:01\r\u001b[K     |██████████████████████████▎     | 2.5MB 11.8MB/s eta 0:00:01\r\u001b[K     |██████████████████████████▍     | 2.5MB 11.8MB/s eta 0:00:01\r\u001b[K     |██████████████████████████▌     | 2.5MB 11.8MB/s eta 0:00:01\r\u001b[K     |██████████████████████████▋     | 2.6MB 11.8MB/s eta 0:00:01\r\u001b[K     |██████████████████████████▊     | 2.6MB 11.8MB/s eta 0:00:01\r\u001b[K     |██████████████████████████▉     | 2.6MB 11.8MB/s eta 0:00:01\r\u001b[K     |███████████████████████████     | 2.6MB 11.8MB/s eta 0:00:01\r\u001b[K     |███████████████████████████     | 2.6MB 11.8MB/s eta 0:00:01\r\u001b[K     |███████████████████████████▏    | 2.6MB 11.8MB/s eta 0:00:01\r\u001b[K     |███████████████████████████▎    | 2.6MB 11.8MB/s eta 0:00:01\r\u001b[K     |███████████████████████████▍    | 2.6MB 11.8MB/s eta 0:00:01\r\u001b[K     |███████████████████████████▌    | 2.6MB 11.8MB/s eta 0:00:01\r\u001b[K     |███████████████████████████▋    | 2.7MB 11.8MB/s eta 0:00:01\r\u001b[K     |███████████████████████████▋    | 2.7MB 11.8MB/s eta 0:00:01\r\u001b[K     |███████████████████████████▊    | 2.7MB 11.8MB/s eta 0:00:01\r\u001b[K     |███████████████████████████▉    | 2.7MB 11.8MB/s eta 0:00:01\r\u001b[K     |████████████████████████████    | 2.7MB 11.8MB/s eta 0:00:01\r\u001b[K     |████████████████████████████    | 2.7MB 11.8MB/s eta 0:00:01\r\u001b[K     |████████████████████████████▏   | 2.7MB 11.8MB/s eta 0:00:01\r\u001b[K     |████████████████████████████▎   | 2.7MB 11.8MB/s eta 0:00:01\r\u001b[K     |████████████████████████████▍   | 2.7MB 11.8MB/s eta 0:00:01\r\u001b[K     |████████████████████████████▌   | 2.7MB 11.8MB/s eta 0:00:01\r\u001b[K     |████████████████████████████▋   | 2.8MB 11.8MB/s eta 0:00:01\r\u001b[K     |████████████████████████████▊   | 2.8MB 11.8MB/s eta 0:00:01\r\u001b[K     |████████████████████████████▉   | 2.8MB 11.8MB/s eta 0:00:01\r\u001b[K     |█████████████████████████████   | 2.8MB 11.8MB/s eta 0:00:01\r\u001b[K     |█████████████████████████████   | 2.8MB 11.8MB/s eta 0:00:01\r\u001b[K     |█████████████████████████████▏  | 2.8MB 11.8MB/s eta 0:00:01\r\u001b[K     |█████████████████████████████▎  | 2.8MB 11.8MB/s eta 0:00:01\r\u001b[K     |█████████████████████████████▍  | 2.8MB 11.8MB/s eta 0:00:01\r\u001b[K     |█████████████████████████████▌  | 2.8MB 11.8MB/s eta 0:00:01\r\u001b[K     |█████████████████████████████▋  | 2.8MB 11.8MB/s eta 0:00:01\r\u001b[K     |█████████████████████████████▊  | 2.9MB 11.8MB/s eta 0:00:01\r\u001b[K     |█████████████████████████████▉  | 2.9MB 11.8MB/s eta 0:00:01\r\u001b[K     |██████████████████████████████  | 2.9MB 11.8MB/s eta 0:00:01\r\u001b[K     |██████████████████████████████  | 2.9MB 11.8MB/s eta 0:00:01\r\u001b[K     |██████████████████████████████  | 2.9MB 11.8MB/s eta 0:00:01\r\u001b[K     |██████████████████████████████▏ | 2.9MB 11.8MB/s eta 0:00:01\r\u001b[K     |██████████████████████████████▎ | 2.9MB 11.8MB/s eta 0:00:01\r\u001b[K     |██████████████████████████████▍ | 2.9MB 11.8MB/s eta 0:00:01\r\u001b[K     |██████████████████████████████▌ | 2.9MB 11.8MB/s eta 0:00:01\r\u001b[K     |██████████████████████████████▋ | 2.9MB 11.8MB/s eta 0:00:01\r\u001b[K     |██████████████████████████████▊ | 3.0MB 11.8MB/s eta 0:00:01\r\u001b[K     |██████████████████████████████▉ | 3.0MB 11.8MB/s eta 0:00:01\r\u001b[K     |███████████████████████████████ | 3.0MB 11.8MB/s eta 0:00:01\r\u001b[K     |███████████████████████████████ | 3.0MB 11.8MB/s eta 0:00:01\r\u001b[K     |███████████████████████████████▏| 3.0MB 11.8MB/s eta 0:00:01\r\u001b[K     |███████████████████████████████▎| 3.0MB 11.8MB/s eta 0:00:01\r\u001b[K     |███████████████████████████████▍| 3.0MB 11.8MB/s eta 0:00:01\r\u001b[K     |███████████████████████████████▌| 3.0MB 11.8MB/s eta 0:00:01\r\u001b[K     |███████████████████████████████▋| 3.0MB 11.8MB/s eta 0:00:01\r\u001b[K     |███████████████████████████████▊| 3.1MB 11.8MB/s eta 0:00:01\r\u001b[K     |███████████████████████████████▉| 3.1MB 11.8MB/s eta 0:00:01\r\u001b[K     |████████████████████████████████| 3.1MB 11.8MB/s eta 0:00:01\r\u001b[K     |████████████████████████████████| 3.1MB 11.8MB/s \n",
            "\u001b[?25hBuilding wheels for collected packages: vowpalwabbit\n",
            "  Building wheel for vowpalwabbit (setup.py) ... \u001b[?25l\u001b[?25hdone\n",
            "  Created wheel for vowpalwabbit: filename=vowpalwabbit-8.8.1-cp36-cp36m-linux_x86_64.whl size=1675347 sha256=389abad800c65c5c82a8e957642c372fc16fa85d173f52b2e5d2d3dc012265ca\n",
            "  Stored in directory: /root/.cache/pip/wheels/17/41/59/fbefa702042c4a9ca33a87c7a3f49328bdfc664dd56466561b\n",
            "Successfully built vowpalwabbit\n",
            "Installing collected packages: vowpalwabbit\n",
            "Successfully installed vowpalwabbit-8.8.1\n"
          ],
          "name": "stdout"
        }
      ]
    },
    {
      "cell_type": "code",
      "metadata": {
        "id": "KuM5phxiupG2",
        "colab_type": "code",
        "colab": {
          "base_uri": "https://localhost:8080/",
          "height": 105
        },
        "outputId": "e29fecc2-5871-4881-9deb-8a1c326bde29"
      },
      "source": [
        "from vowpalwabbit import sklearn_vw"
      ],
      "execution_count": 3,
      "outputs": [
        {
          "output_type": "stream",
          "text": [
            "/usr/local/lib/python3.6/dist-packages/sklearn/utils/deprecation.py:144: FutureWarning: The sklearn.linear_model.base module is  deprecated in version 0.22 and will be removed in version 0.24. The corresponding classes / functions should instead be imported from sklearn.linear_model. Anything that cannot be imported from sklearn.linear_model is now part of the private API.\n",
            "  warnings.warn(message, FutureWarning)\n",
            "/usr/local/lib/python3.6/dist-packages/sklearn/utils/deprecation.py:144: FutureWarning: The sklearn.datasets.svmlight_format module is  deprecated in version 0.22 and will be removed in version 0.24. The corresponding classes / functions should instead be imported from sklearn.datasets. Anything that cannot be imported from sklearn.datasets is now part of the private API.\n",
            "  warnings.warn(message, FutureWarning)\n"
          ],
          "name": "stderr"
        }
      ]
    },
    {
      "cell_type": "code",
      "metadata": {
        "id": "bKUrNXiApVWD",
        "colab_type": "code",
        "colab": {}
      },
      "source": [
        "import dask\n",
        "import numpy as np\n",
        "import sklearn\n",
        "from matplotlib import pyplot as plt\n",
        "from matplotlib import cm\n",
        "import copy\n",
        "import astropy\n",
        "import hdbscan\n",
        "import pandas as pd\n",
        "\n",
        "from astropy.io import fits"
      ],
      "execution_count": 4,
      "outputs": []
    },
    {
      "cell_type": "code",
      "metadata": {
        "id": "AYjp98l1mlIB",
        "colab_type": "code",
        "colab": {
          "base_uri": "https://localhost:8080/",
          "height": 122
        },
        "outputId": "bb98ceac-6b4b-4f9a-e9e6-df847ceb2214"
      },
      "source": [
        "from google.colab import drive \n",
        "drive.mount('/content/gdrive')"
      ],
      "execution_count": 5,
      "outputs": [
        {
          "output_type": "stream",
          "text": [
            "Go to this URL in a browser: https://accounts.google.com/o/oauth2/auth?client_id=947318989803-6bn6qk8qdgf4n4g3pfee6491hc0brc4i.apps.googleusercontent.com&redirect_uri=urn%3aietf%3awg%3aoauth%3a2.0%3aoob&response_type=code&scope=email%20https%3a%2f%2fwww.googleapis.com%2fauth%2fdocs.test%20https%3a%2f%2fwww.googleapis.com%2fauth%2fdrive%20https%3a%2f%2fwww.googleapis.com%2fauth%2fdrive.photos.readonly%20https%3a%2f%2fwww.googleapis.com%2fauth%2fpeopleapi.readonly\n",
            "\n",
            "Enter your authorization code:\n",
            "··········\n",
            "Mounted at /content/gdrive\n"
          ],
          "name": "stdout"
        }
      ]
    },
    {
      "cell_type": "code",
      "metadata": {
        "id": "3VhAQqKLoA8u",
        "colab_type": "code",
        "colab": {}
      },
      "source": [
        "from tqdm import tqdm\n",
        "import csv"
      ],
      "execution_count": 6,
      "outputs": []
    },
    {
      "cell_type": "code",
      "metadata": {
        "id": "J637Fx7FpVWI",
        "colab_type": "code",
        "colab": {}
      },
      "source": [
        "y = pd.read_csv('rcsed_iGrID.csv')"
      ],
      "execution_count": 7,
      "outputs": []
    },
    {
      "cell_type": "code",
      "metadata": {
        "id": "LkIygvxkpVWN",
        "colab_type": "code",
        "colab": {}
      },
      "source": [
        "sdss_indx = list(y[~y.iGrID.isna()].index)\n",
        "\n",
        "y = y.loc[sdss_indx,:].to_numpy().flatten()\n",
        "\n",
        "sdss_labels = pd.Series(y)"
      ],
      "execution_count": 8,
      "outputs": []
    },
    {
      "cell_type": "code",
      "metadata": {
        "id": "8jCDT4xKpVWQ",
        "colab_type": "code",
        "colab": {}
      },
      "source": [
        "#hdul = fits.open('http://gal-03.sai.msu.ru/~vtoptun/photometry/rcsed_v2_clean.fits', memmap=astropy.io.fits.Conf.use_memmap.defaultvalue, lazy_load_hdus=True) "
      ],
      "execution_count": 9,
      "outputs": []
    },
    {
      "cell_type": "code",
      "metadata": {
        "id": "rKwrYf8KpVWX",
        "colab_type": "code",
        "colab": {}
      },
      "source": [
        "#cols = hdul[1].columns"
      ],
      "execution_count": 10,
      "outputs": []
    },
    {
      "cell_type": "code",
      "metadata": {
        "id": "XC7_Hq2hpVWa",
        "colab_type": "code",
        "colab": {}
      },
      "source": [
        "#data = hdul[1].data"
      ],
      "execution_count": 11,
      "outputs": []
    },
    {
      "cell_type": "code",
      "metadata": {
        "id": "elkE06supVWd",
        "colab_type": "code",
        "colab": {}
      },
      "source": [
        "#hdul.close()\n",
        "#del hdul"
      ],
      "execution_count": 12,
      "outputs": []
    },
    {
      "cell_type": "code",
      "metadata": {
        "id": "3Rtj7WpuSxj1",
        "colab_type": "code",
        "colab": {}
      },
      "source": [
        "#a = []\n",
        "#while 1:\n",
        "#  a.append('1')"
      ],
      "execution_count": 13,
      "outputs": []
    },
    {
      "cell_type": "code",
      "metadata": {
        "id": "7yuf-FzVdtGD",
        "colab_type": "code",
        "colab": {}
      },
      "source": [
        "#with open('/content/gdrive/My Drive/data_rcsed_clean.csv') as f_in, open('unlabeled_data.vw', 'w') as f_out:\n",
        " #   csv_reader = csv.reader(f_in)\n",
        "  #  headers = next(csv_reader)\n",
        " \n",
        "   # for row in tqdm(csv_reader):\n",
        "    #    f_out.write('{} |{} {} |{} {}\\n'.format(*(e for x in zip(row, headers[1:]+['']) for e in x)))"
      ],
      "execution_count": 14,
      "outputs": []
    },
    {
      "cell_type": "code",
      "metadata": {
        "id": "PvfuhR8YsEDF",
        "colab_type": "code",
        "colab": {}
      },
      "source": [
        "#while len(DATA) > 0:\n",
        " # DATA.pop()"
      ],
      "execution_count": 15,
      "outputs": []
    },
    {
      "cell_type": "code",
      "metadata": {
        "id": "obzQsoLRpVWg",
        "colab_type": "code",
        "colab": {
          "base_uri": "https://localhost:8080/",
          "height": 350
        },
        "outputId": "ed75ccfd-c649-40aa-ecfa-98e5fdf83dc7"
      },
      "source": [
        "#DATA = pd.read_csv('/content/drive/My Drive/data_rcsed_clean.csv')\n",
        "with open('/content/gdrive/My Drive/data_rcsed_clean.csv', mode='r') as file:\n",
        "  with open('labeled_data.csv', mode='w') as write_file:\n",
        "    reader = csv.DictReader(file)\n",
        "    writer = csv.DictWriter(write_file, fieldnames = reader.fieldnames)\n",
        "    writer.writeheader()\n",
        "\n",
        "    place = 0\n",
        "    index = sdss_indx[place]\n",
        "    for i, line in tqdm(enumerate(reader), total=4105516):\n",
        "      if i == index:\n",
        "        writer.writerow(line)\n",
        "        #DATA.append(line)\n",
        "        place += 1\n",
        "        if place < len(sdss_indx):\n",
        "          index = sdss_indx[place]"
      ],
      "execution_count": 16,
      "outputs": [
        {
          "output_type": "error",
          "ename": "OSError",
          "evalue": "ignored",
          "traceback": [
            "\u001b[0;31m---------------------------------------------------------------------------\u001b[0m",
            "\u001b[0;31mOSError\u001b[0m                                   Traceback (most recent call last)",
            "\u001b[0;32m<ipython-input-16-3123e34a34dc>\u001b[0m in \u001b[0;36m<module>\u001b[0;34m()\u001b[0m\n\u001b[1;32m      3\u001b[0m   \u001b[0;32mwith\u001b[0m \u001b[0mopen\u001b[0m\u001b[0;34m(\u001b[0m\u001b[0;34m'labeled_data.csv'\u001b[0m\u001b[0;34m,\u001b[0m \u001b[0mmode\u001b[0m\u001b[0;34m=\u001b[0m\u001b[0;34m'w'\u001b[0m\u001b[0;34m)\u001b[0m \u001b[0;32mas\u001b[0m \u001b[0mwrite_file\u001b[0m\u001b[0;34m:\u001b[0m\u001b[0;34m\u001b[0m\u001b[0;34m\u001b[0m\u001b[0m\n\u001b[1;32m      4\u001b[0m     \u001b[0mreader\u001b[0m \u001b[0;34m=\u001b[0m \u001b[0mcsv\u001b[0m\u001b[0;34m.\u001b[0m\u001b[0mDictReader\u001b[0m\u001b[0;34m(\u001b[0m\u001b[0mfile\u001b[0m\u001b[0;34m)\u001b[0m\u001b[0;34m\u001b[0m\u001b[0;34m\u001b[0m\u001b[0m\n\u001b[0;32m----> 5\u001b[0;31m     \u001b[0mwriter\u001b[0m \u001b[0;34m=\u001b[0m \u001b[0mcsv\u001b[0m\u001b[0;34m.\u001b[0m\u001b[0mDictWriter\u001b[0m\u001b[0;34m(\u001b[0m\u001b[0mwrite_file\u001b[0m\u001b[0;34m,\u001b[0m \u001b[0mfieldnames\u001b[0m \u001b[0;34m=\u001b[0m \u001b[0mreader\u001b[0m\u001b[0;34m.\u001b[0m\u001b[0mfieldnames\u001b[0m\u001b[0;34m)\u001b[0m\u001b[0;34m\u001b[0m\u001b[0;34m\u001b[0m\u001b[0m\n\u001b[0m\u001b[1;32m      6\u001b[0m     \u001b[0mwriter\u001b[0m\u001b[0;34m.\u001b[0m\u001b[0mwriteheader\u001b[0m\u001b[0;34m(\u001b[0m\u001b[0;34m)\u001b[0m\u001b[0;34m\u001b[0m\u001b[0;34m\u001b[0m\u001b[0m\n\u001b[1;32m      7\u001b[0m \u001b[0;34m\u001b[0m\u001b[0m\n",
            "\u001b[0;32m/usr/lib/python3.6/csv.py\u001b[0m in \u001b[0;36mfieldnames\u001b[0;34m(self)\u001b[0m\n\u001b[1;32m     96\u001b[0m         \u001b[0;32mif\u001b[0m \u001b[0mself\u001b[0m\u001b[0;34m.\u001b[0m\u001b[0m_fieldnames\u001b[0m \u001b[0;32mis\u001b[0m \u001b[0;32mNone\u001b[0m\u001b[0;34m:\u001b[0m\u001b[0;34m\u001b[0m\u001b[0;34m\u001b[0m\u001b[0m\n\u001b[1;32m     97\u001b[0m             \u001b[0;32mtry\u001b[0m\u001b[0;34m:\u001b[0m\u001b[0;34m\u001b[0m\u001b[0;34m\u001b[0m\u001b[0m\n\u001b[0;32m---> 98\u001b[0;31m                 \u001b[0mself\u001b[0m\u001b[0;34m.\u001b[0m\u001b[0m_fieldnames\u001b[0m \u001b[0;34m=\u001b[0m \u001b[0mnext\u001b[0m\u001b[0;34m(\u001b[0m\u001b[0mself\u001b[0m\u001b[0;34m.\u001b[0m\u001b[0mreader\u001b[0m\u001b[0;34m)\u001b[0m\u001b[0;34m\u001b[0m\u001b[0;34m\u001b[0m\u001b[0m\n\u001b[0m\u001b[1;32m     99\u001b[0m             \u001b[0;32mexcept\u001b[0m \u001b[0mStopIteration\u001b[0m\u001b[0;34m:\u001b[0m\u001b[0;34m\u001b[0m\u001b[0;34m\u001b[0m\u001b[0m\n\u001b[1;32m    100\u001b[0m                 \u001b[0;32mpass\u001b[0m\u001b[0;34m\u001b[0m\u001b[0;34m\u001b[0m\u001b[0m\n",
            "\u001b[0;31mOSError\u001b[0m: [Errno 5] Input/output error"
          ]
        }
      ]
    },
    {
      "cell_type": "code",
      "metadata": {
        "id": "hXU8bfaipVWj",
        "colab_type": "code",
        "colab": {}
      },
      "source": [
        "#del data"
      ],
      "execution_count": null,
      "outputs": []
    },
    {
      "cell_type": "code",
      "metadata": {
        "id": "Zyd7SZzhcyuv",
        "colab_type": "code",
        "colab": {}
      },
      "source": [
        "#data"
      ],
      "execution_count": null,
      "outputs": []
    },
    {
      "cell_type": "code",
      "metadata": {
        "id": "7Iu1Dw2366bb",
        "colab_type": "code",
        "colab": {}
      },
      "source": [
        "DATA = pd.read_csv('labeled_data.csv')"
      ],
      "execution_count": null,
      "outputs": []
    },
    {
      "cell_type": "code",
      "metadata": {
        "id": "kAmLXvbek-ZD",
        "colab_type": "code",
        "colab": {}
      },
      "source": [
        "#DATA = []"
      ],
      "execution_count": null,
      "outputs": []
    },
    {
      "cell_type": "code",
      "metadata": {
        "id": "KMa3fW4nicXl",
        "colab_type": "code",
        "colab": {}
      },
      "source": [
        "#for i in tqdm(range(42)):\n",
        "#  DATA.append(pd.read_csv('labeled_data.csv', nrows=100000))"
      ],
      "execution_count": null,
      "outputs": []
    },
    {
      "cell_type": "code",
      "metadata": {
        "id": "kMZB646ZpVWm",
        "colab_type": "code",
        "colab": {}
      },
      "source": [
        "RA = DATA.ra\n",
        "DEC = DATA.dec\n",
        "Z = DATA.z"
      ],
      "execution_count": null,
      "outputs": []
    },
    {
      "cell_type": "code",
      "metadata": {
        "id": "kII8VrAtpVWp",
        "colab_type": "code",
        "colab": {}
      },
      "source": [
        "ra_dec_z = DATA[['ra','dec','z']]"
      ],
      "execution_count": null,
      "outputs": []
    },
    {
      "cell_type": "code",
      "metadata": {
        "id": "rmc_CCVypVWs",
        "colab_type": "code",
        "colab": {}
      },
      "source": [
        "from sklearn.preprocessing import StandardScaler\n",
        "\n",
        "stdscaler = StandardScaler().fit(ra_dec_z) #[sdss_indx])\n",
        "\n",
        "ra_dec_z_scaled = stdscaler.transform(ra_dec_z)"
      ],
      "execution_count": null,
      "outputs": []
    },
    {
      "cell_type": "code",
      "metadata": {
        "id": "D11GaafXd888",
        "colab_type": "code",
        "colab": {}
      },
      "source": [
        "ra_dec_z_scaled.shape"
      ],
      "execution_count": null,
      "outputs": []
    },
    {
      "cell_type": "code",
      "metadata": {
        "id": "-LZXPW7NpVW1",
        "colab_type": "code",
        "colab": {}
      },
      "source": [
        "hdbScan = hdbscan.hdbscan_.HDBSCAN(min_cluster_size=24, #2,\n",
        "                                   min_samples=11, #3,\n",
        "                                   cluster_selectio_epsilon=0.0\n",
        "                                   metric='euclidean',\n",
        "                                   alpha=4.5,\n",
        "                                   p=None,\n",
        "                                   algorithm='boruvka_kdtree',   #'boruvka_kdtree', \n",
        "                                   leaf_size=90, #30,\n",
        "                                   approx_min_span_tree=True,\n",
        "                                   gen_min_span_tree=True,\n",
        "                                   core_dist_n_jobs=4,\n",
        "                                   cluster_selection_method='leaf',\n",
        "                                   allow_single_cluster=False,\n",
        "                                   prediction_data=False,\n",
        "                                   match_reference_implementation=False).fit(ra_dec_z_scaled)"
      ],
      "execution_count": null,
      "outputs": []
    },
    {
      "cell_type": "code",
      "metadata": {
        "id": "6REdFJadeKQn",
        "colab_type": "code",
        "colab": {}
      },
      "source": [
        "hdbScan.labels_.shape"
      ],
      "execution_count": null,
      "outputs": []
    },
    {
      "cell_type": "code",
      "metadata": {
        "id": "OQ0-kyeI-3KS",
        "colab_type": "code",
        "colab": {}
      },
      "source": [
        "rcsed_labels = hdbScan.labels_\n",
        "print(rcsed_labels.size)\n",
        "\n",
        "for i in range(len(rcsed_labels)):\n",
        "    if rcsed_labels[i]==-1:\n",
        "        rcsed_labels[i]=i+5000000\n",
        "\n",
        "true = y\n",
        "pred = rcsed_labels\n",
        "\n",
        "fms = round(sklearn.metrics.fowlkes_mallows_score(true, pred),5)\n",
        "ars = round(sklearn.metrics.adjusted_rand_score(true, pred),5)\n",
        "nmi = round(sklearn.metrics.normalized_mutual_info_score(true, pred),5)\n",
        "\n",
        "print(fms)"
      ],
      "execution_count": null,
      "outputs": []
    },
    {
      "cell_type": "code",
      "metadata": {
        "id": "1XTJBUsjhIAI",
        "colab_type": "code",
        "colab": {}
      },
      "source": [
        "print(ars, nmi)"
      ],
      "execution_count": null,
      "outputs": []
    },
    {
      "cell_type": "code",
      "metadata": {
        "id": "GWza-C6eeuMa",
        "colab_type": "code",
        "colab": {}
      },
      "source": [
        "true.size"
      ],
      "execution_count": null,
      "outputs": []
    },
    {
      "cell_type": "code",
      "metadata": {
        "id": "WnUNOEdzfBSS",
        "colab_type": "code",
        "colab": {}
      },
      "source": [
        "len(y[sdss_indx])"
      ],
      "execution_count": null,
      "outputs": []
    }
  ]
}